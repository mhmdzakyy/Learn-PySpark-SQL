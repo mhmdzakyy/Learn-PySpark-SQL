{
 "cells": [
  {
   "cell_type": "markdown",
   "metadata": {},
   "source": [
    "# Practice Case 6\n",
    "#### Muhammad Zaky Aonillah"
   ]
  },
  {
   "cell_type": "markdown",
   "metadata": {},
   "source": [
    "## Import Library"
   ]
  },
  {
   "cell_type": "code",
   "execution_count": 33,
   "metadata": {},
   "outputs": [],
   "source": [
    "import pyspark\n",
    "from pyspark.sql import SparkSession\n",
    "from pyspark.sql import functions as F"
   ]
  },
  {
   "cell_type": "markdown",
   "metadata": {},
   "source": [
    "# Dataset Preparation"
   ]
  },
  {
   "cell_type": "code",
   "execution_count": 2,
   "metadata": {},
   "outputs": [],
   "source": [
    "spark = SparkSession.builder \\\n",
    "    .master(\"local[*]\") \\\n",
    "    .appName(\"Practice-Case6\") \\\n",
    "    .getOrCreate()"
   ]
  },
  {
   "cell_type": "code",
   "execution_count": null,
   "metadata": {},
   "outputs": [],
   "source": [
    "!wget https://d37ci6vzurychx.cloudfront.net/trip-data/yellow_tripdata_2021-02.parquet\n",
    "!wget https://d37ci6vzurychx.cloudfront.net/trip-data/green_tripdata_2021-02.parquet\n",
    "!wget https://d37ci6vzurychx.cloudfront.net/trip-data/fhv_tripdata_2021-02.parquet"
   ]
  },
  {
   "cell_type": "code",
   "execution_count": 24,
   "metadata": {},
   "outputs": [],
   "source": [
    "df_yellow = spark.read.parquet(\"yellow_tripdata_2021-02.parquet\")\n",
    "df_green = spark.read.parquet(\"green_tripdata_2021-02.parquet\")\n",
    "df_fhv = spark.read.parquet(\"fhv_tripdata_2021-02.parquet\")"
   ]
  },
  {
   "cell_type": "code",
   "execution_count": 28,
   "metadata": {},
   "outputs": [],
   "source": [
    "df_green = df_green \\\n",
    "    .withColumnRenamed('lpep_pickup_datetime', 'pickup_datetime') \\\n",
    "    .withColumnRenamed('lpep_dropoff_datetime', 'dropoff_datetime')\n",
    "\n",
    "df_yellow = df_yellow \\\n",
    "    .withColumnRenamed('tpep_pickup_datetime', 'pickup_datetime') \\\n",
    "    .withColumnRenamed('tpep_dropoff_datetime', 'dropoff_datetime')"
   ]
  },
  {
   "cell_type": "code",
   "execution_count": 29,
   "metadata": {},
   "outputs": [],
   "source": [
    "df_yellow = df_yellow.drop('airport_fee')"
   ]
  },
  {
   "cell_type": "code",
   "execution_count": 32,
   "metadata": {},
   "outputs": [],
   "source": [
    "common_colums = []\n",
    "\n",
    "yellow_columns = set(df_yellow.columns)\n",
    "\n",
    "for col in df_green.columns:\n",
    "    if col in yellow_columns:\n",
    "        common_colums.append(col)"
   ]
  },
  {
   "cell_type": "code",
   "execution_count": 34,
   "metadata": {},
   "outputs": [],
   "source": [
    "df_green_sel = df_green \\\n",
    "    .select(common_colums) \\\n",
    "    .withColumn('service_type', F.lit('green'))"
   ]
  },
  {
   "cell_type": "code",
   "execution_count": 35,
   "metadata": {},
   "outputs": [],
   "source": [
    "df_yellow_sel = df_yellow \\\n",
    "    .select(common_colums) \\\n",
    "    .withColumn('service_type', F.lit('yellow'))"
   ]
  },
  {
   "cell_type": "code",
   "execution_count": 36,
   "metadata": {},
   "outputs": [],
   "source": [
    "df_trips_data = df_green_sel.unionAll(df_yellow_sel)"
   ]
  },
  {
   "cell_type": "code",
   "execution_count": 37,
   "metadata": {},
   "outputs": [
    {
     "name": "stdout",
     "output_type": "stream",
     "text": [
      "+------------+-------+\n",
      "|service_type|  count|\n",
      "+------------+-------+\n",
      "|       green|  64572|\n",
      "|      yellow|1371709|\n",
      "+------------+-------+\n",
      "\n"
     ]
    }
   ],
   "source": [
    "df_trips_data.groupBy('service_type').count().show()"
   ]
  },
  {
   "cell_type": "code",
   "execution_count": 38,
   "metadata": {},
   "outputs": [
    {
     "data": {
      "text/plain": [
       "['VendorID',\n",
       " 'pickup_datetime',\n",
       " 'dropoff_datetime',\n",
       " 'store_and_fwd_flag',\n",
       " 'RatecodeID',\n",
       " 'PULocationID',\n",
       " 'DOLocationID',\n",
       " 'passenger_count',\n",
       " 'trip_distance',\n",
       " 'fare_amount',\n",
       " 'extra',\n",
       " 'mta_tax',\n",
       " 'tip_amount',\n",
       " 'tolls_amount',\n",
       " 'improvement_surcharge',\n",
       " 'total_amount',\n",
       " 'payment_type',\n",
       " 'congestion_surcharge',\n",
       " 'service_type']"
      ]
     },
     "execution_count": 38,
     "metadata": {},
     "output_type": "execute_result"
    }
   ],
   "source": [
    "df_trips_data.columns"
   ]
  },
  {
   "cell_type": "code",
   "execution_count": 68,
   "metadata": {},
   "outputs": [
    {
     "name": "stdout",
     "output_type": "stream",
     "text": [
      "+-------------------+-----------+-------------+\n",
      "|    pickup_datetime|pickup_date|trip_distance|\n",
      "+-------------------+-----------+-------------+\n",
      "|2021-02-01 07:34:03| 2021-02-01|         3.66|\n",
      "|2021-02-01 07:04:00| 2021-02-01|          1.1|\n",
      "|2021-02-01 07:18:51| 2021-02-01|         4.93|\n",
      "|2021-02-01 07:53:27| 2021-02-01|          6.7|\n",
      "|2021-02-01 07:57:46| 2021-02-01|         1.89|\n",
      "|2021-02-01 07:33:03| 2021-02-01|          3.3|\n",
      "|2021-02-01 07:18:43| 2021-02-01|         2.51|\n",
      "|2021-02-01 07:06:50| 2021-02-01|         1.68|\n",
      "|2021-02-01 08:25:20| 2021-02-01|         1.44|\n",
      "|2021-02-01 09:56:55| 2021-02-01|          0.0|\n",
      "|2021-02-01 09:53:46| 2021-02-01|          1.9|\n",
      "|2021-02-01 09:34:48| 2021-02-01|          1.9|\n",
      "|2021-02-01 09:32:28| 2021-02-01|         1.73|\n",
      "|2021-02-01 10:40:41| 2021-02-01|         0.94|\n",
      "|2021-02-01 10:58:34| 2021-02-01|         3.24|\n",
      "|2021-02-01 11:46:50| 2021-02-01|         1.67|\n",
      "|2021-02-01 11:59:12| 2021-02-01|          1.2|\n",
      "|2021-02-01 10:59:27| 2021-02-01|         0.19|\n",
      "|2021-02-01 11:09:11| 2021-02-01|          0.0|\n",
      "|2021-02-01 12:11:56| 2021-02-01|         0.93|\n",
      "+-------------------+-----------+-------------+\n",
      "only showing top 20 rows\n",
      "\n"
     ]
    }
   ],
   "source": [
    "df_trips_data.select(\"pickup_datetime\",\"pickup_date\", \"trip_distance\").show()"
   ]
  },
  {
   "cell_type": "code",
   "execution_count": 67,
   "metadata": {},
   "outputs": [],
   "source": [
    "df_trips_data = df_trips_data.withColumn(\"pickup_date\", df_trips_data[\"pickup_datetime\"].cast('date'))"
   ]
  },
  {
   "cell_type": "code",
   "execution_count": 70,
   "metadata": {},
   "outputs": [
    {
     "name": "stderr",
     "output_type": "stream",
     "text": [
      "C:\\Users\\mhmdz\\AppData\\Local\\Packages\\PythonSoftwareFoundation.Python.3.9_qbz5n2kfra8p0\\LocalCache\\local-packages\\Python39\\site-packages\\pyspark\\sql\\dataframe.py:229: FutureWarning: Deprecated in 2.0, use createOrReplaceTempView instead.\n",
      "  warnings.warn(\"Deprecated in 2.0, use createOrReplaceTempView instead.\", FutureWarning)\n"
     ]
    }
   ],
   "source": [
    "df_trips_data.registerTempTable('trips_data')"
   ]
  },
  {
   "cell_type": "code",
   "execution_count": 85,
   "metadata": {},
   "outputs": [
    {
     "name": "stderr",
     "output_type": "stream",
     "text": [
      "C:\\Users\\mhmdz\\AppData\\Local\\Packages\\PythonSoftwareFoundation.Python.3.9_qbz5n2kfra8p0\\LocalCache\\local-packages\\Python39\\site-packages\\pyspark\\sql\\dataframe.py:229: FutureWarning: Deprecated in 2.0, use createOrReplaceTempView instead.\n",
      "  warnings.warn(\"Deprecated in 2.0, use createOrReplaceTempView instead.\", FutureWarning)\n"
     ]
    }
   ],
   "source": [
    "df_fhv.registerTempTable('fhv_data')"
   ]
  },
  {
   "cell_type": "markdown",
   "metadata": {},
   "source": [
    "## 1. How many taxi trips were there on February 15?"
   ]
  },
  {
   "cell_type": "code",
   "execution_count": 118,
   "metadata": {},
   "outputs": [],
   "source": [
    "total_trip_15feb = spark.sql(\"\"\" \n",
    "\n",
    "    SELECT COUNT(1) as total_trip\n",
    "    FROM trips_data\n",
    "    WHERE pickup_datetime >= '2021-02-15 00:00:00' AND pickup_datetime < '2021-02-16 00:00:00' \n",
    "\n",
    "\"\"\")"
   ]
  },
  {
   "cell_type": "code",
   "execution_count": 119,
   "metadata": {},
   "outputs": [
    {
     "name": "stdout",
     "output_type": "stream",
     "text": [
      "+----------+\n",
      "|total_trip|\n",
      "+----------+\n",
      "|     45497|\n",
      "+----------+\n",
      "\n"
     ]
    }
   ],
   "source": [
    "total_trip_15feb.show()"
   ]
  },
  {
   "cell_type": "markdown",
   "metadata": {},
   "source": [
    "##  2. Find the longest trip for each day ?"
   ]
  },
  {
   "cell_type": "code",
   "execution_count": 82,
   "metadata": {},
   "outputs": [],
   "source": [
    "df_longtrip = spark.sql(\"\"\"\n",
    "    SELECT pickup_date, MAX(trip_distance) as longest_trip\n",
    "    FROM trips_data\n",
    "    WHERE pickup_date >= \"2021-02-01\" AND pickup_date < \"2021-03-01\"\n",
    "    GROUP BY 1\n",
    "    ORDER BY 1\n",
    "\"\"\")"
   ]
  },
  {
   "cell_type": "code",
   "execution_count": 83,
   "metadata": {},
   "outputs": [
    {
     "name": "stdout",
     "output_type": "stream",
     "text": [
      "+-----------+------------+\n",
      "|pickup_date|longest_trip|\n",
      "+-----------+------------+\n",
      "| 2021-02-01|       38.89|\n",
      "| 2021-02-02|       73.24|\n",
      "| 2021-02-03|   186079.73|\n",
      "| 2021-02-04|   102620.98|\n",
      "| 2021-02-05|    91134.16|\n",
      "| 2021-02-06|       48.35|\n",
      "| 2021-02-07|   186510.67|\n",
      "| 2021-02-08|   186617.92|\n",
      "| 2021-02-09|    89416.24|\n",
      "| 2021-02-10|     60382.7|\n",
      "| 2021-02-11|    43174.56|\n",
      "| 2021-02-12|    66659.27|\n",
      "| 2021-02-13|    54381.65|\n",
      "| 2021-02-14|   115928.92|\n",
      "| 2021-02-15|       52.89|\n",
      "| 2021-02-16|   221188.25|\n",
      "| 2021-02-17|   140145.44|\n",
      "| 2021-02-18|    29501.25|\n",
      "| 2021-02-19|       75.81|\n",
      "| 2021-02-20|   188054.03|\n",
      "| 2021-02-21|    47327.62|\n",
      "| 2021-02-22|       55.87|\n",
      "| 2021-02-23|        79.3|\n",
      "| 2021-02-24|    90073.44|\n",
      "| 2021-02-25|    50422.63|\n",
      "| 2021-02-26|    90796.21|\n",
      "| 2021-02-27|       91.05|\n",
      "| 2021-02-28|     29486.5|\n",
      "+-----------+------------+\n",
      "\n"
     ]
    }
   ],
   "source": [
    "df_longtrip.show(35)"
   ]
  },
  {
   "cell_type": "markdown",
   "metadata": {},
   "source": [
    "## 3. Find Top 5 Most frequent `dispatching_base_num` ?"
   ]
  },
  {
   "cell_type": "code",
   "execution_count": 125,
   "metadata": {},
   "outputs": [],
   "source": [
    "top_5_dbm = spark.sql(\"\"\"\n",
    "    SELECT dispatching_base_num, count(dispatching_base_num) as count\n",
    "    FROM fhv_data\n",
    "    GROUP BY 1\n",
    "    ORDER BY 2 DESC\n",
    "\"\"\")"
   ]
  },
  {
   "cell_type": "code",
   "execution_count": 126,
   "metadata": {},
   "outputs": [
    {
     "name": "stdout",
     "output_type": "stream",
     "text": [
      "+--------------------+-----+\n",
      "|dispatching_base_num|count|\n",
      "+--------------------+-----+\n",
      "|              B00856|35077|\n",
      "|              B01312|33089|\n",
      "|              B01145|31114|\n",
      "|              B02794|30397|\n",
      "|              B03016|29794|\n",
      "+--------------------+-----+\n",
      "only showing top 5 rows\n",
      "\n"
     ]
    }
   ],
   "source": [
    "top_5_dbm.show(5)"
   ]
  },
  {
   "cell_type": "markdown",
   "metadata": {},
   "source": [
    "## 4. Find Top 5 Most common location pairs (PUlocationID and DOlocationID) ?"
   ]
  },
  {
   "cell_type": "code",
   "execution_count": 116,
   "metadata": {},
   "outputs": [],
   "source": [
    "most_pu = spark.sql(\"\"\" \n",
    "    SELECT PUlocationID, COUNT(PUlocationID) as count_pu\n",
    "    FROM trips_data\n",
    "    GROUP BY 1\n",
    "    ORDER BY 2 DESC\n",
    "\"\"\").limit(5)"
   ]
  },
  {
   "cell_type": "code",
   "execution_count": 113,
   "metadata": {},
   "outputs": [],
   "source": [
    "most_do = spark.sql(\"\"\" \n",
    "    SELECT DOlocationID, COUNT(DOlocationID) as count_do\n",
    "    FROM trips_data\n",
    "    GROUP BY 1\n",
    "    ORDER BY 2 DESC\n",
    "\"\"\").limit(5)\n"
   ]
  },
  {
   "cell_type": "code",
   "execution_count": 117,
   "metadata": {},
   "outputs": [
    {
     "name": "stdout",
     "output_type": "stream",
     "text": [
      "+------------+--------+\n",
      "|PUlocationID|count_pu|\n",
      "+------------+--------+\n",
      "|         236|   75062|\n",
      "|         237|   72922|\n",
      "|         141|   46266|\n",
      "|         239|   45049|\n",
      "|         186|   44304|\n",
      "+------------+--------+\n",
      "\n"
     ]
    }
   ],
   "source": [
    "most_pu.show()"
   ]
  },
  {
   "cell_type": "code",
   "execution_count": 114,
   "metadata": {},
   "outputs": [
    {
     "name": "stdout",
     "output_type": "stream",
     "text": [
      "+------------+--------+\n",
      "|DOlocationID|count_do|\n",
      "+------------+--------+\n",
      "|         236|   74619|\n",
      "|         237|   62488|\n",
      "|         141|   44876|\n",
      "|         239|   42888|\n",
      "|         238|   42250|\n",
      "+------------+--------+\n",
      "\n"
     ]
    }
   ],
   "source": [
    "most_do.show()"
   ]
  }
 ],
 "metadata": {
  "kernelspec": {
   "display_name": "Python 3.9.13 64-bit (microsoft store)",
   "language": "python",
   "name": "python3"
  },
  "language_info": {
   "codemirror_mode": {
    "name": "ipython",
    "version": 3
   },
   "file_extension": ".py",
   "mimetype": "text/x-python",
   "name": "python",
   "nbconvert_exporter": "python",
   "pygments_lexer": "ipython3",
   "version": "3.9.13"
  },
  "orig_nbformat": 4,
  "vscode": {
   "interpreter": {
    "hash": "1b92ce745d7ae070d3f6252f2b77dfa25017be399ea587c195a26ab24f77dc74"
   }
  }
 },
 "nbformat": 4,
 "nbformat_minor": 2
}
